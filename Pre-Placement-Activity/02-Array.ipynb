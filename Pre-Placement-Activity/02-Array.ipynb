{
  "nbformat": 4,
  "nbformat_minor": 0,
  "metadata": {
    "colab": {
      "name": "0001-Two-Sum.ipynb",
      "provenance": [],
      "collapsed_sections": []
    },
    "kernelspec": {
      "name": "python3",
      "display_name": "Python 3"
    }
  },
  "cells": [
    {
      "cell_type": "markdown",
      "metadata": {
        "id": "5UL-inuQOzts",
        "colab_type": "text"
      },
      "source": [
        "## Two Sum - LeetCode\n",
        "\n",
        "Link = https://leetcode.com/problems/two-sum/\n",
        "\n",
        "Given an array of integers, return indices of the two numbers such that they add up to a specific target.\n",
        "\n",
        "You may assume that each input would have exactly one solution, and you may not use the same element twice.\n",
        "\n",
        "Example:\n",
        "\n",
        "Given ```nums = [2, 7, 11, 15]```, ```target = 9```,\n",
        "\n",
        "Because ```nums[0] + nums[1] = 2 + 7 = 9```,\n",
        "```return [0, 1]```."
      ]
    },
    {
      "cell_type": "markdown",
      "metadata": {
        "id": "IM3mzpSePi4A",
        "colab_type": "text"
      },
      "source": [
        "## Question as asked by the Interviewer\n",
        "\n",
        "Given : A collection of numbers<br>\n",
        "To Find : A matching pair that is equal to target\n",
        "\n",
        "Example:\n",
        "\n",
        "```nums = [2, 7, 11, 15]```, ```target = 9```<br>\n",
        "```nums = [1, 2, 4, 4]```, ```target = 8```<br>\n",
        "```nums = [1, 2, 3, 9]```, ```target = 8```"
      ]
    },
    {
      "cell_type": "markdown",
      "metadata": {
        "id": "_UlBnCQFQJJ1",
        "colab_type": "text"
      },
      "source": [
        "## Tip\n",
        "\n",
        "\n",
        "\n",
        "*   Ask if you have understood the question\n",
        "*   Ask about how the collection is stored (Data Structure)\n",
        "*   Ask about any case that you feel might be controversial ('4' in [1, 2, 4] -> 8)\n",
        "*   Ask about data types (int, float, positive, negative)\n",
        "\n",
        "\n",
        "\n"
      ]
    },
    {
      "cell_type": "markdown",
      "metadata": {
        "id": "NhnEaKMXU6Qs",
        "colab_type": "text"
      },
      "source": [
        "## Simplest Solution\n",
        "\n",
        "Compare every possible pair"
      ]
    },
    {
      "cell_type": "code",
      "metadata": {
        "id": "3ShO59BeXDLh",
        "colab_type": "code",
        "colab": {}
      },
      "source": [
        "def two_sum(nums, target):\n",
        "  for i in range(len(nums)):\n",
        "    for j in range(i + 1, len(nums)):\n",
        "      if nums[i] + nums[j] == target:\n",
        "        return [i, j]"
      ],
      "execution_count": 0,
      "outputs": []
    },
    {
      "cell_type": "code",
      "metadata": {
        "id": "1G8GfrP8XEJG",
        "colab_type": "code",
        "colab": {}
      },
      "source": [
        "nums = [2, 7, 11, 15]\n",
        "target = 9"
      ],
      "execution_count": 0,
      "outputs": []
    },
    {
      "cell_type": "code",
      "metadata": {
        "id": "b9HS1XnyYqI_",
        "colab_type": "code",
        "outputId": "c2fcec40-d6c9-4fa9-b657-9f7f11b82d57",
        "colab": {
          "base_uri": "https://localhost:8080/",
          "height": 34
        }
      },
      "source": [
        "two_sum(nums, target)"
      ],
      "execution_count": 0,
      "outputs": [
        {
          "output_type": "execute_result",
          "data": {
            "text/plain": [
              "[0, 1]"
            ]
          },
          "metadata": {
            "tags": []
          },
          "execution_count": 15
        }
      ]
    },
    {
      "cell_type": "markdown",
      "metadata": {
        "id": "vzJxcpr2hOgd",
        "colab_type": "text"
      },
      "source": [
        "Explain why it won't be efficient.<br>\n",
        "Don't hesitate to ask for advice from the interviewer if you are confused or stumped."
      ]
    },
    {
      "cell_type": "markdown",
      "metadata": {
        "id": "208VQx8chdXC",
        "colab_type": "text"
      },
      "source": [
        "# Efficient Solution (Using Hash Table / Hash Set)\n",
        "## Time Complexity O(n), Space Complexity O(n)"
      ]
    },
    {
      "cell_type": "code",
      "metadata": {
        "id": "cN8G6-Wohso0",
        "colab_type": "code",
        "colab": {}
      },
      "source": [
        "#Solution For LeetCode\n",
        "\n",
        "def two_sum_d(nums, target):\n",
        "  d = {}\n",
        "  for i in range(len(nums)):\n",
        "    temp = target - nums[i]\n",
        "    if temp in d:\n",
        "      return [d[temp], i]\n",
        "    d[nums[i]] = i\n"
      ],
      "execution_count": 0,
      "outputs": []
    },
    {
      "cell_type": "code",
      "metadata": {
        "id": "Ej216MDwh9Jb",
        "colab_type": "code",
        "colab": {}
      },
      "source": [
        "nums = [2, 7, 11, 15]\n",
        "target = 9"
      ],
      "execution_count": 0,
      "outputs": []
    },
    {
      "cell_type": "code",
      "metadata": {
        "id": "0K8pJb4niPQL",
        "colab_type": "code",
        "outputId": "93273423-dc84-4c70-e9f4-3a32c23a96f5",
        "colab": {
          "base_uri": "https://localhost:8080/",
          "height": 34
        }
      },
      "source": [
        "two_sum_d(nums, target)"
      ],
      "execution_count": 0,
      "outputs": [
        {
          "output_type": "execute_result",
          "data": {
            "text/plain": [
              "[0, 1]"
            ]
          },
          "metadata": {
            "tags": []
          },
          "execution_count": 20
        }
      ]
    },
    {
      "cell_type": "code",
      "metadata": {
        "id": "1BpyKHMPiRdR",
        "colab_type": "code",
        "colab": {}
      },
      "source": [
        "#Solution For Interviewer\n",
        "\n",
        "def two_sum_s(nums, target):\n",
        "  s = set()\n",
        "  for i in nums:\n",
        "    temp = target - i\n",
        "    if temp in s:\n",
        "      return [i ,temp] #Ask about the features of output\n",
        "    s.add(i)"
      ],
      "execution_count": 0,
      "outputs": []
    },
    {
      "cell_type": "code",
      "metadata": {
        "id": "hB523o_di9fb",
        "colab_type": "code",
        "colab": {}
      },
      "source": [
        "nums = [2, 7, 11, 15]\n",
        "target = 9"
      ],
      "execution_count": 0,
      "outputs": []
    },
    {
      "cell_type": "code",
      "metadata": {
        "id": "AFAjoTQGi_fb",
        "colab_type": "code",
        "outputId": "bc6f4aa6-92d1-4309-f42a-3a7564db266e",
        "colab": {
          "base_uri": "https://localhost:8080/",
          "height": 34
        }
      },
      "source": [
        "two_sum_s(nums, target)"
      ],
      "execution_count": 0,
      "outputs": [
        {
          "output_type": "execute_result",
          "data": {
            "text/plain": [
              "[7, 2]"
            ]
          },
          "metadata": {
            "tags": []
          },
          "execution_count": 26
        }
      ]
    },
    {
      "cell_type": "markdown",
      "metadata": {
        "id": "ZBZNhXRQjPY1",
        "colab_type": "text"
      },
      "source": [
        "## What if the collection of numbers were 'SORTED'?\n",
        "\n",
        "Time Complexity O(log n), Space Complexity O(1)"
      ]
    },
    {
      "cell_type": "code",
      "metadata": {
        "id": "JxbkXJ3OjV6B",
        "colab_type": "code",
        "colab": {}
      },
      "source": [
        "def two_sum_sorted(nums, target):\n",
        "  low, high = 0, len(nums) - 1\n",
        "  while low < high:\n",
        "    summ = nums[low] + nums[high]\n",
        "    if summ == target:\n",
        "      return [nums[low], nums[high]]\n",
        "    if summ < target:\n",
        "      low += 1\n",
        "    else:\n",
        "      high -= 1   "
      ],
      "execution_count": 0,
      "outputs": []
    },
    {
      "cell_type": "code",
      "metadata": {
        "id": "8jORGfEqlP2-",
        "colab_type": "code",
        "colab": {}
      },
      "source": [
        "nums = [2, 5, 7, 11, 15]\n",
        "target = 9"
      ],
      "execution_count": 0,
      "outputs": []
    },
    {
      "cell_type": "code",
      "metadata": {
        "id": "IJLwJFJblUkz",
        "colab_type": "code",
        "outputId": "b53a85f8-9826-4ed8-b47b-6cb5e27e8ced",
        "colab": {
          "base_uri": "https://localhost:8080/",
          "height": 34
        }
      },
      "source": [
        "two_sum_sorted(nums, target)"
      ],
      "execution_count": 0,
      "outputs": [
        {
          "output_type": "execute_result",
          "data": {
            "text/plain": [
              "[2, 7]"
            ]
          },
          "metadata": {
            "tags": []
          },
          "execution_count": 32
        }
      ]
    },
    {
      "cell_type": "markdown",
      "metadata": {
        "id": "yjnNco9NnS8T",
        "colab_type": "text"
      },
      "source": [
        "## To Do\n",
        "\n",
        "### LeetCode\n",
        "#### Link \n",
        "https://leetcode.com/problemset/all/\n",
        "*   1365. How Many Numbers are Smaller Than the Current Number\n",
        "*   1051. Height Checker\n",
        "*   0283. Move Zeroes\n",
        "*   0169. Majority Element\n",
        "*   0448. Find All numbers Disappeared in an Array\n",
        "*   0217. Contains Duplicate\n",
        "*   0121. Best Time to Buy and Sell Stock\n",
        "*   0122. Best Time to Buy and Sell Stock II\n",
        "*   0268. Missing Number\n",
        "*   0118. Pascal's Triangle\n",
        "*   0027. Remove Element\n",
        "*   0053. Maximum Subarray\n",
        "\n",
        "### HackerRank \n",
        "(Only if you want to Warmup first or are a beginner to problem solving)\n",
        "#### Links\n",
        "https://www.hackerrank.com/domains/algorithms <br>\n",
        "https://www.hackerrank.com/domains/data-structures\n",
        "\n",
        "*   Solve Me First\n",
        "*   Simple Array Sum\n",
        "*   Compare The Triplets\n",
        "*   A Very Big Sum\n",
        "*   Diagonal Difference\n",
        "*   Plus Minus\n",
        "*   Staircase\n",
        "*   Mini - Max Sum\n",
        "*   Array - DS\n",
        "*   2D Array - DS\n",
        "*   Dynamic Array\n",
        "*   Left Rotation"
      ]
    }
  ]
}
