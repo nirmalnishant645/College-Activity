{
  "nbformat": 4,
  "nbformat_minor": 0,
  "metadata": {
    "colab": {
      "name": "Algorithm-Analysis.ipynb",
      "provenance": [],
      "collapsed_sections": []
    },
    "kernelspec": {
      "name": "python3",
      "display_name": "Python 3"
    }
  },
  "cells": [
    {
      "cell_type": "markdown",
      "metadata": {
        "id": "xGUFZR0tG24e",
        "colab_type": "text"
      },
      "source": [
        "# Algorithm Analysis"
      ]
    },
    {
      "cell_type": "code",
      "metadata": {
        "id": "OJAtvHBfG_Fa",
        "colab_type": "code",
        "colab": {}
      },
      "source": [
        "# First function\n",
        "def sum1(n):\n",
        "    '''\n",
        "    Take an input of n and return the sum of the numbers from 0 to n\n",
        "    '''\n",
        "    final_sum = 0\n",
        "    for x in range(n+1): \n",
        "        final_sum += x\n",
        "    \n",
        "    return final_sum"
      ],
      "execution_count": 0,
      "outputs": []
    },
    {
      "cell_type": "code",
      "metadata": {
        "id": "v05USyQ4HFgI",
        "colab_type": "code",
        "outputId": "3b223664-d27f-4102-f247-fd20e8deeb77",
        "colab": {
          "base_uri": "https://localhost:8080/",
          "height": 35
        }
      },
      "source": [
        "sum1(10)"
      ],
      "execution_count": 0,
      "outputs": [
        {
          "output_type": "execute_result",
          "data": {
            "text/plain": [
              "55"
            ]
          },
          "metadata": {
            "tags": []
          },
          "execution_count": 2
        }
      ]
    },
    {
      "cell_type": "code",
      "metadata": {
        "id": "Qy4gwLzxHSI3",
        "colab_type": "code",
        "colab": {}
      },
      "source": [
        "def sum2(n):\n",
        "    '''\n",
        "    Take an input of n and return the sum of the numbers from 0 to n\n",
        "    '''\n",
        "    return (n*(n+1))/2"
      ],
      "execution_count": 0,
      "outputs": []
    },
    {
      "cell_type": "code",
      "metadata": {
        "id": "tzEcFAVbHYWZ",
        "colab_type": "code",
        "outputId": "42cafc11-416c-403d-dd72-bbe6bb672ffa",
        "colab": {
          "base_uri": "https://localhost:8080/",
          "height": 35
        }
      },
      "source": [
        "sum1(10)"
      ],
      "execution_count": 0,
      "outputs": [
        {
          "output_type": "execute_result",
          "data": {
            "text/plain": [
              "55"
            ]
          },
          "metadata": {
            "tags": []
          },
          "execution_count": 4
        }
      ]
    },
    {
      "cell_type": "markdown",
      "metadata": {
        "id": "j09GvlCbIWQP",
        "colab_type": "text"
      },
      "source": [
        "# Big O Notation\n",
        "\n",
        "<table>\n",
        "    <tr>\n",
        "    <th><strong>Big-O</strong></th>\n",
        "    <th><strong>Name</strong></th>\n",
        "    </tr>\n",
        "    <tr>\n",
        "        <td>1</td>\n",
        "        <td>Constant</td>\n",
        "    </tr>\n",
        "    <tr>\n",
        "        <td>log(n)</td>\n",
        "        <td>Logarithmic</td>\n",
        "    </tr>\n",
        "        <tr><td>n</td>\n",
        "        <td>Linear</td>\n",
        "    </tr>\n",
        "        <tr><td>nlog(n)</td>\n",
        "        <td>Log Linear</td>\n",
        "    </tr>\n",
        "        <tr><td>n^2</td>\n",
        "        <td>Quadratic</td>\n",
        "    </tr>\n",
        "        <tr><td>n^3</td>\n",
        "        <td>Cubic</td>\n",
        "    </tr>\n",
        "        <tr><td>2^n</td>\n",
        "        <td>Exponential</td>\n",
        "    </tr>\n",
        "    </table>"
      ]
    },
    {
      "cell_type": "code",
      "metadata": {
        "id": "T6rJ9RTdIwXy",
        "colab_type": "code",
        "outputId": "13be54b2-39a2-4f23-c2b6-4517352fe806",
        "colab": {
          "base_uri": "https://localhost:8080/",
          "height": 627
        }
      },
      "source": [
        "from math import log\n",
        "import numpy as np\n",
        "import matplotlib.pyplot as plt\n",
        "%matplotlib inline\n",
        "plt.style.use('bmh')\n",
        "\n",
        "# Set up runtime comparisons\n",
        "n = np.linspace(1,10,1000)\n",
        "labels = ['Constant','Logarithmic','Linear','Log Linear','Quadratic','Cubic','Exponential']\n",
        "big_o = [np.ones(n.shape),np.log(n),n,n*np.log(n),n**2,n**3,2**n]\n",
        "\n",
        "# Plot setup\n",
        "plt.figure(figsize=(12,10))\n",
        "plt.ylim(0,50)\n",
        "\n",
        "for i in range(len(big_o)):\n",
        "    plt.plot(n,big_o[i],label = labels[i])\n",
        "\n",
        "\n",
        "plt.legend(loc=0)\n",
        "plt.ylabel('Relative Runtime')\n",
        "plt.xlabel('n')"
      ],
      "execution_count": 0,
      "outputs": [
        {
          "output_type": "execute_result",
          "data": {
            "text/plain": [
              "Text(0.5, 0, 'n')"
            ]
          },
          "metadata": {
            "tags": []
          },
          "execution_count": 5
        },
        {
          "output_type": "display_data",
          "data": {
            "image/png": "[encoded data removed]",
            "text/plain": [
              "<Figure size 864x720 with 1 Axes>"
            ]
          },
          "metadata": {
            "tags": []
          }
        }
      ]
    },
    {
      "cell_type": "markdown",
      "metadata": {
        "id": "Veq6yIeOJ2lb",
        "colab_type": "text"
      },
      "source": [
        "# Examples\n",
        "\n",
        "## Time Complexity\n",
        "\n",
        "## O(1) Constant"
      ]
    },
    {
      "cell_type": "code",
      "metadata": {
        "id": "4r5f35gwKDSG",
        "colab_type": "code",
        "outputId": "5610a43a-67a7-4590-c366-1f5afed69576",
        "colab": {
          "base_uri": "https://localhost:8080/",
          "height": 35
        }
      },
      "source": [
        "def func_constant(values):\n",
        "    '''\n",
        "    Prints first item in a list of values.\n",
        "    '''\n",
        "    print (values[0])\n",
        "    \n",
        "func_constant([1,2,3])"
      ],
      "execution_count": 0,
      "outputs": [
        {
          "output_type": "stream",
          "text": [
            "1\n"
          ],
          "name": "stdout"
        }
      ]
    },
    {
      "cell_type": "markdown",
      "metadata": {
        "id": "q39ZSv9vKM-i",
        "colab_type": "text"
      },
      "source": [
        "## O(n) Linear"
      ]
    },
    {
      "cell_type": "code",
      "metadata": {
        "id": "gRupWuK2KSVX",
        "colab_type": "code",
        "outputId": "6b572ba2-c839-429f-c936-00b1b48506fc",
        "colab": {
          "base_uri": "https://localhost:8080/",
          "height": 72
        }
      },
      "source": [
        "def func_lin(lst):\n",
        "    '''\n",
        "    Takes in list and prints out all values\n",
        "    '''\n",
        "    for val in lst:\n",
        "        print(val)\n",
        "        \n",
        "func_lin([1,2,3])"
      ],
      "execution_count": 0,
      "outputs": [
        {
          "output_type": "stream",
          "text": [
            "1\n",
            "2\n",
            "3\n"
          ],
          "name": "stdout"
        }
      ]
    },
    {
      "cell_type": "markdown",
      "metadata": {
        "id": "N7DCOSlvKdPH",
        "colab_type": "text"
      },
      "source": [
        "## O(n^2) or O(n*n) Quadratic"
      ]
    },
    {
      "cell_type": "code",
      "metadata": {
        "id": "gQrwH_SWKjqj",
        "colab_type": "code",
        "outputId": "065fe6f1-61d8-4b10-af80-1394e18fde38",
        "colab": {
          "base_uri": "https://localhost:8080/",
          "height": 311
        }
      },
      "source": [
        "def func_quad(lst):\n",
        "    '''\n",
        "    Prints pairs for every item in list.\n",
        "    '''\n",
        "    for item_1 in lst:\n",
        "        for item_2 in lst:\n",
        "            print(item_1, item_2)\n",
        "            \n",
        "lst = [0, 1, 2, 3]\n",
        "\n",
        "func_quad(lst)"
      ],
      "execution_count": 0,
      "outputs": [
        {
          "output_type": "stream",
          "text": [
            "0 0\n",
            "0 1\n",
            "0 2\n",
            "0 3\n",
            "1 0\n",
            "1 1\n",
            "1 2\n",
            "1 3\n",
            "2 0\n",
            "2 1\n",
            "2 2\n",
            "2 3\n",
            "3 0\n",
            "3 1\n",
            "3 2\n",
            "3 3\n"
          ],
          "name": "stdout"
        }
      ]
    },
    {
      "cell_type": "markdown",
      "metadata": {
        "id": "E8PtXgxGMQLe",
        "colab_type": "text"
      },
      "source": [
        "## Space Complexity\n",
        "\n",
        "## O(1) Constant"
      ]
    },
    {
      "cell_type": "code",
      "metadata": {
        "id": "ccMRhA6LMWqG",
        "colab_type": "code",
        "colab": {}
      },
      "source": [
        "def printer(n=10):\n",
        "    '''\n",
        "    Prints \"hello world!\" n times\n",
        "    '''\n",
        "    for x in range(n):\n",
        "        print ('Hello World!')"
      ],
      "execution_count": 0,
      "outputs": []
    },
    {
      "cell_type": "code",
      "metadata": {
        "id": "-YIrtSseNW4_",
        "colab_type": "code",
        "outputId": "3eb69f9a-2f47-491d-80ef-ad1e7c016f4e",
        "colab": {
          "base_uri": "https://localhost:8080/",
          "height": 201
        }
      },
      "source": [
        "printer()"
      ],
      "execution_count": 0,
      "outputs": [
        {
          "output_type": "stream",
          "text": [
            "Hello World!\n",
            "Hello World!\n",
            "Hello World!\n",
            "Hello World!\n",
            "Hello World!\n",
            "Hello World!\n",
            "Hello World!\n",
            "Hello World!\n",
            "Hello World!\n",
            "Hello World!\n"
          ],
          "name": "stdout"
        }
      ]
    },
    {
      "cell_type": "markdown",
      "metadata": {
        "id": "tYMyzkCvOJse",
        "colab_type": "text"
      },
      "source": [
        "## O(n) Linear"
      ]
    },
    {
      "cell_type": "code",
      "metadata": {
        "id": "FsF_d6ZyNeVc",
        "colab_type": "code",
        "colab": {}
      },
      "source": [
        "def create_list(n):\n",
        "    new_list = []\n",
        "    \n",
        "    for num in range(n):\n",
        "        new_list.append('new')\n",
        "    \n",
        "    return new_list"
      ],
      "execution_count": 0,
      "outputs": []
    },
    {
      "cell_type": "code",
      "metadata": {
        "id": "g7qvz9SFNlTA",
        "colab_type": "code",
        "outputId": "c6531086-438b-477e-ceb4-339da7c255f1",
        "colab": {
          "base_uri": "https://localhost:8080/",
          "height": 35
        }
      },
      "source": [
        "create_list(10)"
      ],
      "execution_count": 0,
      "outputs": [
        {
          "output_type": "execute_result",
          "data": {
            "text/plain": [
              "['new', 'new', 'new', 'new', 'new', 'new', 'new', 'new', 'new', 'new']"
            ]
          },
          "metadata": {
            "tags": []
          },
          "execution_count": 18
        }
      ]
    },
    {
      "cell_type": "markdown",
      "metadata": {
        "id": "sEKDnFmAOaUI",
        "colab_type": "text"
      },
      "source": [
        "# Big O for Python Data Structures\n",
        "\n",
        "## Lists"
      ]
    },
    {
      "cell_type": "code",
      "metadata": {
        "id": "WSt7of2HOj1x",
        "colab_type": "code",
        "colab": {}
      },
      "source": [
        "def method1():\n",
        "    l = []\n",
        "    for n in range(10000):\n",
        "        l = l + [n]\n",
        "\n",
        "def method2():\n",
        "    l = []\n",
        "    for n in range(10000):\n",
        "        l.append(n)\n",
        "\n",
        "def method3():\n",
        "    l = [n for n in range(10000)]\n",
        "\n",
        "def method4():\n",
        "    l = [range(10000)]"
      ],
      "execution_count": 0,
      "outputs": []
    },
    {
      "cell_type": "code",
      "metadata": {
        "id": "v7DdzJJsO8rU",
        "colab_type": "code",
        "outputId": "c2c8f7d3-71f1-4298-aa16-b7c5a37461d3",
        "colab": {
          "base_uri": "https://localhost:8080/",
          "height": 109
        }
      },
      "source": [
        "%timeit method1()\n",
        "%timeit method2()\n",
        "%timeit method3()\n",
        "%timeit method4()"
      ],
      "execution_count": 0,
      "outputs": [
        {
          "output_type": "stream",
          "text": [
            "10 loops, best of 3: 132 ms per loop\n",
            "1000 loops, best of 3: 777 µs per loop\n",
            "1000 loops, best of 3: 408 µs per loop\n",
            "The slowest run took 5.90 times longer than the fastest. This could mean that an intermediate result is being cached.\n",
            "1000000 loops, best of 3: 320 ns per loop\n"
          ],
          "name": "stdout"
        }
      ]
    }
  ]
}
